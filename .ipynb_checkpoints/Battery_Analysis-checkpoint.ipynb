{
 "cells": [
  {
   "cell_type": "markdown",
   "metadata": {},
   "source": [
    "# Battery Analysis Project\n",
    "\n",
    "This notebook analyzes all `.csv` files (7566) from the NASA Battery Dataset (cleaned version) to:\n",
    "- Create an alternative 3D plot (Part a, since EIS data is missing)\n",
    "- Generate 2D and 3D dQ/dV plots (Part b)\n",
    "- Train an ML model for capacity prediction (Part c)\n",
    "\n",
    "**Data Location:** `C:\\Users\\anshu\\Downloads\\Battery_Analysis_Project(new)\\data\\`\n",
    "\n",
    "**Note:** This will process all 7566 files, which may take several hours depending on your system."
   ]
  },
  {
   "cell_type": "code",
   "execution_count": null,
   "metadata": {
    "vscode": {
     "languageId": "plaintext"
    }
   },
   "outputs": [],
   "source": [
    "import numpy as np\n",
    "import matplotlib.pyplot as plt\n",
    "from mpl_toolkits.mplot3d import Axes3D\n",
    "import pandas as pd\n",
    "import os\n",
    "from sklearn.ensemble import RandomForestRegressor\n",
    "from sklearn.model_selection import train_test_split\n",
    "\n",
    "print(\"Libraries imported successfully!\")"
   ]
  },
  {
   "cell_type": "markdown",
   "metadata": {},
   "source": [
    "## Setup Paths\n",
    "\n",
    "We’ll use all `.csv` files from the `data/` folder in `C:\\Users\\anshu\\Downloads\\Battery_Analysis_Project(new)`. Outputs will be saved in the `outputs/` folder."
   ]
  },
  {
   "cell_type": "code",
   "execution_count": null,
   "metadata": {
    "vscode": {
     "languageId": "plaintext"
    }
   },
   "outputs": [],
   "source": [
    "# Paths\n",
    "DATA_DIR = \"C:/Users/anshu/Downloads/Battery_Analysis_Project(new)/data/\"\n",
    "OUTPUT_DIR = \"C:/Users/anshu/Downloads/Battery_Analysis_Project(new)/outputs/\"\n",
    "\n",
    "# Create outputs directory if it doesn’t exist\n",
    "if not os.path.exists(OUTPUT_DIR):\n",
    "    os.makedirs(OUTPUT_DIR)\n",
    "    print(\"Outputs directory created!\")\n",
    "else:\n",
    "    print(\"Outputs directory already exists!\")"
   ]
  },
  {
   "cell_type": "markdown",
   "metadata": {},
   "source": [
    "## Load Data\n",
    "\n",
    "Load all 7566 `.csv` files from the `data/` folder and combine them into one DataFrame. This may take significant time and memory."
   ]
  },
  {
   "cell_type": "code",
   "execution_count": null,
   "metadata": {
    "vscode": {
     "languageId": "plaintext"
    }
   },
   "outputs": [],
   "source": [
    "print(\"Loading data...\")\n",
    "all_data = []\n",
    "file_count = 0\n",
    "total_files = len([f for f in os.listdir(DATA_DIR) if f.endswith('.csv')])\n",
    "for file in os.listdir(DATA_DIR):\n",
    "    if file.endswith('.csv'):  # Load all files\n",
    "        file_path = os.path.join(DATA_DIR, file)\n",
    "        df = pd.read_csv(file_path)\n",
    "        all_data.append(df)\n",
    "        file_count += 1\n",
    "        if file_count == 1:\n",
    "            print(\"Columns in the first file:\", df.columns.tolist())\n",
    "        print(f\"Loaded {file_count}/{total_files} files\", end='\\r')\n",
    "combined_df = pd.concat(all_data, ignore_index=True)\n",
    "print(f\"\\nTotal rows loaded: {len(combined_df)}\")"
   ]
  },
  {
   "cell_type": "markdown",
   "metadata": {},
   "source": [
    "## Part a: 3D Plot (Alternative)\n",
    "\n",
    "Since EIS data (`real_impedance`, `imag_impedance`) isn’t available, we’ll create an alternative 3D plot using `Voltage_measured`, `Current_measured`, and `Time`."
   ]
  },
  {
   "cell_type": "code",
   "execution_count": null,
   "metadata": {
    "vscode": {
     "languageId": "plaintext"
    }
   },
   "outputs": [],
   "source": [
    "print(\"Part a: Creating alternative 3D plot...\")\n",
    "fig = plt.figure(figsize=(10, 7))\n",
    "ax = fig.add_subplot(111, projection='3d')\n",
    "ax.scatter(combined_df['Voltage_measured'], combined_df['Current_measured'], combined_df['Time'], s=1)\n",
    "ax.set_xlabel('Voltage (V)')\n",
    "ax.set_ylabel('Current (A)')\n",
    "ax.set_zlabel('Time (s)')\n",
    "plt.title('Voltage vs Current vs Time (All Files)')\n",
    "plt.savefig(os.path.join(OUTPUT_DIR, 'eis_3d_plot.png'))\n",
    "plt.show()\n",
    "plt.close()\n",
    "print(\"Alternative 3D plot saved as 'eis_3d_plot.png'\")"
   ]
  },
  {
   "cell_type": "markdown",
   "metadata": {},
   "source": [
    "## Part b1: 2D dQ/dV Plot\n",
    "\n",
    "Generate a 2D plot of dQ/dV vs Voltage using the combined data from all files."
   ]
  },
  {
   "cell_type": "code",
   "execution_count": null,
   "metadata": {
    "vscode": {
     "languageId": "plaintext"
    }
   },
   "outputs": [],
   "source": [
    "print(\"Part b1: Creating 2D dQ/dV plot...\")\n",
    "voltage = combined_df['Voltage_measured']\n",
    "current = combined_df['Current_measured']\n",
    "time = combined_df['Time']\n",
    "Q = current * time  # Approximate capacity\n",
    "dQ = np.diff(Q)\n",
    "dV = np.diff(voltage)\n",
    "dQ_dV = dQ / dV\n",
    "\n",
    "plt.figure(figsize=(8, 5))\n",
    "plt.plot(voltage[:-1], dQ_dV, label='Full Data')\n",
    "plt.xlabel('Voltage (V)')\n",
    "plt.ylabel('dQ/dV')\n",
    "plt.title('Incremental Capacity Analysis (All Files)')\n",
    "plt.legend()\n",
    "plt.savefig(os.path.join(OUTPUT_DIR, 'dqdv_2d_plot.png'))\n",
    "plt.show()\n",
    "plt.close()\n",
    "print(\"dQ/dV 2D plot saved as 'dqdv_2d_plot.png'\")"
   ]
  },
  {
   "cell_type": "markdown",
   "metadata": {},
   "source": [
    "## Part b2: 3D dQ/dV Plot\n",
    "\n",
    "Create a 3D plot showing how dQ/dV peaks change with pseudo-aging (Time chunks, since `cycle_number` isn’t available). Using larger chunks due to big data."
   ]
  },
  {
   "cell_type": "code",
   "execution_count": null,
   "metadata": {
    "vscode": {
     "languageId": "plaintext"
    }
   },
   "outputs": [],
   "source": [
    "print(\"Part b2: Creating 3D dQ/dV plot...\")\n",
    "fig = plt.figure(figsize=(10, 7))\n",
    "ax = fig.add_subplot(111, projection='3d')\n",
    "chunk_size = 10000  # Larger chunk size for all files\n",
    "for i in range(0, len(combined_df) - chunk_size, chunk_size):\n",
    "    chunk = combined_df.iloc[i:i+chunk_size]\n",
    "    V = chunk['Voltage_measured']\n",
    "    I = chunk['Current_measured']\n",
    "    t = chunk['Time']\n",
    "    Q = I * t\n",
    "    dQ = np.diff(Q)\n",
    "    dV = np.diff(V)\n",
    "    dQ_dV = dQ / dV\n",
    "    ax.plot(V[:-1], dQ_dV, i//chunk_size, linewidth=1)\n",
    "ax.set_xlabel('Voltage (V)')\n",
    "ax.set_ylabel('dQ/dV')\n",
    "ax.set_zlabel('Pseudo Cycle (Time Chunks)')\n",
    "plt.title('dQ/dV Peaks vs. Pseudo Aging (All Files)')\n",
    "plt.savefig(os.path.join(OUTPUT_DIR, 'dqdv_3d_plot.png'))\n",
    "plt.show()\n",
    "plt.close()\n",
    "print(\"dQ/dV 3D plot saved as 'dqdv_3d_plot.png'\")"
   ]
  },
  {
   "cell_type": "markdown",
   "metadata": {},
   "source": [
    "## Part c: ML Model for Capacity Prediction\n",
    "\n",
    "Train a Random Forest model to predict approximate capacity (using `Current_measured * Time`) from `Voltage_measured` and `Current_measured` across all files."
   ]
  },
  {
   "cell_type": "code",
   "execution_count": null,
   "metadata": {
    "vscode": {
     "languageId": "plaintext"
    }
   },
   "outputs": [],
   "source": [
    "print(\"Part c: Training ML model...\")\n",
    "X = combined_df[['Voltage_measured', 'Current_measured']].dropna().values\n",
    "y = (combined_df['Current_measured'] * combined_df['Time']).dropna().values  # Approx capacity\n",
    "X_train, X_test, y_train, y_test = train_test_split(X, y, test_size=0.2, random_state=42)\n",
    "model = RandomForestRegressor(n_estimators=100, random_state=42)\n",
    "model.fit(X_train, y_train)\n",
    "score = model.score(X_test, y_test)\n",
    "print(f\"R² Score: {score}\")\n",
    "y_pred = model.predict(X_test)\n",
    "plt.scatter(y_test, y_pred)\n",
    "plt.xlabel('Actual Approx Capacity (Ah)')\n",
    "plt.ylabel('Predicted Approx Capacity (Ah)')\n",
    "plt.title('Capacity Prediction (All Files)')\n",
    "plt.savefig(os.path.join(OUTPUT_DIR, 'capacity_prediction.png'))\n",
    "plt.show()\n",
    "plt.close()\n",
    "print(\"Capacity prediction plot saved as 'capacity_prediction.png'\")"
   ]
  },
  {
   "cell_type": "markdown",
   "metadata": {},
   "source": [
    "## Conclusion\n",
    "\n",
    "All plots are saved in the `outputs/` folder:\n",
    "- `eis_3d_plot.png` (alternative)\n",
    "- `dqdv_2d_plot.png`\n",
    "- `dqdv_3d_plot.png`\n",
    "- `capacity_prediction.png`\n",
    "\n",
    "Check the folder and share the results! Note: This took significant time due to processing all 7566 files."
   ]
  },
  {
   "cell_type": "code",
   "execution_count": null,
   "metadata": {
    "vscode": {
     "languageId": "plaintext"
    }
   },
   "outputs": [],
   "source": [
    "print(\"All done! Check the outputs folder.\")"
   ]
  }
 ],
 "metadata": {
  "language_info": {
   "name": "python"
  }
 },
 "nbformat": 4,
 "nbformat_minor": 2
}
